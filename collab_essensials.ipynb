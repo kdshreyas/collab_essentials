{
 "cells": [
  {
   "cell_type": "markdown",
   "id": "9aee32c9-a07c-42e5-8ff4-6bd35d84a39d",
   "metadata": {},
   "source": [
    "## To save trained model in drive"
   ]
  },
  {
   "cell_type": "code",
   "execution_count": null,
   "id": "8cd2027a-3c63-46fa-b41e-9bd10fed8603",
   "metadata": {},
   "outputs": [],
   "source": [
    "!cp output_check.zip '/content/gdrive/My Drive/output'\n",
    "!ls -lt '/content/gdrive/My Drive/' \n",
    "!zip -r output_check.zip output/\n",
    "!cp \"/content/output_check.zip\" \"/content/drive/My Drive/output_check/\""
   ]
  },
  {
   "cell_type": "code",
   "execution_count": null,
   "id": "c9dbcb1e-49a1-4a1b-8290-417c3b3f5f24",
   "metadata": {},
   "outputs": [],
   "source": [
    "# to eliminate the gdown error\n",
    "pip install --upgrade gdown "
   ]
  },
  {
   "cell_type": "code",
   "execution_count": null,
   "id": "014b3491-eb51-4f15-90c5-7e9c3ba4b0a0",
   "metadata": {},
   "outputs": [],
   "source": [
    "!gdown 'id of the file in drive'"
   ]
  },
  {
   "cell_type": "code",
   "execution_count": null,
   "id": "9df8f940-ea28-4d53-9f5f-294c1e254df4",
   "metadata": {},
   "outputs": [],
   "source": [
    "# to split the folder in train val test\n",
    "pip install split-folders\n",
    "\n",
    "import splitfolders\n",
    "input_folder = \"/content/test_09_05\"\n",
    "output = \"/content/splitted_data\"\n",
    "\n",
    "splitfolders.ratio(input_folder, output=output, seed=42, ratio=(.8, .1, .1)) #this means 80:10:10"
   ]
  },
  {
   "cell_type": "code",
   "execution_count": null,
   "id": "014992b2-c5cc-4976-b016-cd3308fb4d03",
   "metadata": {},
   "outputs": [],
   "source": [
    "# To unzip .7z file\n",
    "!p7zip -d test_09_05.7z\n",
    "\n",
    "# To unzip .zip file\n",
    "!unzip -d filename.zip"
   ]
  },
  {
   "cell_type": "code",
   "execution_count": null,
   "id": "1f5569da-0ddf-40c0-8908-e98367ff74b6",
   "metadata": {},
   "outputs": [],
   "source": [
    "# To zip and save the model\n",
    "\n",
    "!zip -r /content/filename.zip folder name/\n",
    "!cp \"/content/filename.zip\" \"/content/drive/My Drive/folder name/\""
   ]
  },
  {
   "cell_type": "code",
   "execution_count": null,
   "id": "21d61584-8ec4-469e-863a-4511850ad3c6",
   "metadata": {},
   "outputs": [],
   "source": []
  }
 ],
 "metadata": {
  "kernelspec": {
   "display_name": "Python [conda env:.conda-detectron_env]",
   "language": "python",
   "name": "conda-env-.conda-detectron_env-py"
  },
  "language_info": {
   "codemirror_mode": {
    "name": "ipython",
    "version": 3
   },
   "file_extension": ".py",
   "mimetype": "text/x-python",
   "name": "python",
   "nbconvert_exporter": "python",
   "pygments_lexer": "ipython3",
   "version": "3.8.13"
  }
 },
 "nbformat": 4,
 "nbformat_minor": 5
}
